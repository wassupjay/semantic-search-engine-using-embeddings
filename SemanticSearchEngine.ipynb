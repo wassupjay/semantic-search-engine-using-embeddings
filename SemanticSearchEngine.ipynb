{
 "cells": [
  {
   "cell_type": "code",
   "execution_count": 6,
   "metadata": {},
   "outputs": [
    {
     "name": "stderr",
     "output_type": "stream",
     "text": [
      "/opt/homebrew/lib/python3.11/site-packages/tqdm/auto.py:21: TqdmWarning: IProgress not found. Please update jupyter and ipywidgets. See https://ipywidgets.readthedocs.io/en/stable/user_install.html\n",
      "  from .autonotebook import tqdm as notebook_tqdm\n"
     ]
    }
   ],
   "source": [
    "import numpy as np \n",
    "from sentence_transformers import SentenceTransformer\n",
    "from sklearn.metrics.pairwise import cosine_similarity\n",
    "import matplotlib.pyplot as plt"
   ]
  },
  {
   "cell_type": "code",
   "execution_count": 9,
   "metadata": {},
   "outputs": [
    {
     "name": "stdout",
     "output_type": "stream",
     "text": [
      "\n",
      "Query: 'artificial intelligence and learning'\n",
      "1. (Score: 0.459) Machine learning algorithms can automatically learn patterns from data without explicit programming.\n",
      "2. (Score: 0.390) Deep learning is a subset of machine learning that uses neural networks with multiple layers.\n",
      "\n",
      "Query: 'programming languages for web development'\n",
      "1. (Score: 0.554) Python is a versatile programming language used for web development, data science, and automation.\n",
      "2. (Score: 0.292) Natural language processing helps computers understand and generate human language.\n",
      "\n",
      "Query: 'protecting computer systems from hackers'\n",
      "1. (Score: 0.581) Cybersecurity protects digital systems from threats and unauthorized access.\n",
      "2. (Score: 0.169) Cloud computing provides on-demand access to computing resources over the internet.\n"
     ]
    }
   ],
   "source": [
    "class SemanticSearchEngine:\n",
    "    def __init__(self, model_name='all-MiniLM-L6-v2'):\n",
    "        self.model = SentenceTransformer(model_name)\n",
    "        self.documents = []\n",
    "        self.document_embeddings = None\n",
    "    \n",
    "    def add_documents(self, documents):\n",
    "        self.documents.extend(documents)\n",
    "        new_embeddings = self.model.encode(documents)\n",
    "        \n",
    "        if self.document_embeddings is None:\n",
    "            self.document_embeddings = new_embeddings\n",
    "        else:\n",
    "            self.document_embeddings = np.vstack([self.document_embeddings, new_embeddings])\n",
    "    \n",
    "    def search(self, query, top_k=3):\n",
    "        if not self.documents:\n",
    "            return []\n",
    "        \n",
    "        query_embedding = self.model.encode([query])\n",
    "        similarities = cosine_similarity(query_embedding, self.document_embeddings)[0]\n",
    "        top_indices = np.argsort(similarities)[::-1][:top_k]\n",
    "        \n",
    "        results = []\n",
    "        for idx in top_indices:\n",
    "            results.append({\n",
    "                'document': self.documents[idx],\n",
    "                'similarity': similarities[idx],\n",
    "                'index': idx\n",
    "            })\n",
    "        \n",
    "        return results\n",
    "\n",
    "search_engine = SemanticSearchEngine()\n",
    "documents = [\n",
    "    \"Python is a versatile programming language used for web development, data science, and automation.\",\n",
    "    \"Machine learning algorithms can automatically learn patterns from data without explicit programming.\",\n",
    "    \"Deep learning is a subset of machine learning that uses neural networks with multiple layers.\",\n",
    "    \"Natural language processing helps computers understand and generate human language.\",\n",
    "    \"Data visualization is crucial for understanding complex datasets and communicating insights.\",\n",
    "    \"Cloud computing provides on-demand access to computing resources over the internet.\",\n",
    "    \"Cybersecurity protects digital systems from threats and unauthorized access.\",\n",
    "    \"Blockchain technology creates immutable records through distributed consensus.\"\n",
    "]\n",
    "search_engine.add_documents(documents)\n",
    "queries = [\n",
    "    \"artificial intelligence and learning\",\n",
    "    \"programming languages for web development\", \n",
    "    \"protecting computer systems from hackers\"\n",
    "]\n",
    "for query in queries:\n",
    "    print(f\"\\nQuery: '{query}'\")\n",
    "    results = search_engine.search(query, top_k=2)\n",
    "    for i, result in enumerate(results, 1):\n",
    "        print(f\"{i}. (Score: {result['similarity']:.3f}) {result['document']}\")"
   ]
  },
  {
   "cell_type": "code",
   "execution_count": null,
   "metadata": {},
   "outputs": [],
   "source": []
  }
 ],
 "metadata": {
  "kernelspec": {
   "display_name": "Python 3",
   "language": "python",
   "name": "python3"
  },
  "language_info": {
   "codemirror_mode": {
    "name": "ipython",
    "version": 3
   },
   "file_extension": ".py",
   "mimetype": "text/x-python",
   "name": "python",
   "nbconvert_exporter": "python",
   "pygments_lexer": "ipython3",
   "version": "3.11.12"
  }
 },
 "nbformat": 4,
 "nbformat_minor": 2
}
